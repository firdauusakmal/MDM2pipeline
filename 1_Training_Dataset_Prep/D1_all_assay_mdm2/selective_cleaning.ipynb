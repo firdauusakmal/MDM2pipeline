{
 "cells": [
  {
   "cell_type": "markdown",
   "metadata": {},
   "source": [
    "Installing Requirements"
   ]
  },
  {
   "cell_type": "code",
   "execution_count": 2,
   "metadata": {},
   "outputs": [
    {
     "ename": "SyntaxError",
     "evalue": "invalid syntax (1550266394.py, line 1)",
     "output_type": "error",
     "traceback": [
      "\u001b[1;36m  Cell \u001b[1;32mIn[2], line 1\u001b[1;36m\u001b[0m\n\u001b[1;33m    pip install molvs\u001b[0m\n\u001b[1;37m        ^\u001b[0m\n\u001b[1;31mSyntaxError\u001b[0m\u001b[1;31m:\u001b[0m invalid syntax\n"
     ]
    }
   ],
   "source": [
    "pip install molvs\n",
    "pip install pandasql\n",
    "from molvs import standardize_smiles\n",
    "import pandasql"
   ]
  },
  {
   "cell_type": "markdown",
   "metadata": {},
   "source": [
    "Screening & Filtering"
   ]
  },
  {
   "cell_type": "code",
   "execution_count": 3,
   "metadata": {},
   "outputs": [],
   "source": [
    "def filter_data(files):\n",
    "    import pandas as pd\n",
    "    import numpy as np\n",
    "    # initiate data_main, main data frame that will be used to aggregate all csv\n",
    "    # only use chembl ID, smile, and standard value columns\n",
    "    data_main = pd.DataFrame({'Assay ChEMBL ID':[], 'Molecule ChEMBL ID':[], 'Smiles':[], 'Standard Relation':[], 'Standard Value':[], 'Molecular Weight':[]})\n",
    "    # for every csv downloaded, do these following tasks\n",
    "    for file in files:\n",
    "        # read data\n",
    "        data = pd.read_csv(file, sep=';')\n",
    "        # drop rows if Smiles or Standard Value is null\n",
    "        removed_null = data.dropna(subset=['Smiles', 'Standard Value', 'Standard Relation'])\n",
    "        # slice data from initial data frame. only use columns in data_main\n",
    "        sliced = removed_null[data_main.columns]\n",
    "        # filter the standard relation to only \"=\"\n",
    "        sliced = sliced[sliced['Standard Relation'].str.contains('=')]\n",
    "        # filter 100 < MW < 900 (Small molecules)\n",
    "        sliced = sliced[(sliced['Molecular Weight'] > 100) & (sliced['Molecular Weight'] < 750)]\n",
    "        # convert IC50 to pIC50\n",
    "        # convert IC50 from nM to M\n",
    "        sliced.loc[:, ['Standard Value']] = sliced[['Standard Value']].apply(lambda x: x*10**-9, axis=1)\n",
    "        # transform to pIC50\n",
    "        sliced.loc[:, ['Standard Value']] = -np.log10(sliced[['Standard Value']])\n",
    "        # join data\n",
    "        data_main = pd.concat([data_main, sliced])\n",
    "    # drop duplicates according to Smiles column\n",
    "    # data_main = data_main.drop_duplicates(subset=['Smiles'])\n",
    "    return data_main[['Assay ChEMBL ID', 'Molecule ChEMBL ID', 'Smiles', 'Standard Value']]"
   ]
  },
  {
   "cell_type": "code",
   "execution_count": null,
   "metadata": {},
   "outputs": [],
   "source": [
    "# store result of data processing in df_main\n",
    "df_main = filter_data(file_names)"
   ]
  },
  {
   "cell_type": "markdown",
   "metadata": {},
   "source": [
    "Molecular Standardization"
   ]
  },
  {
   "cell_type": "code",
   "execution_count": null,
   "metadata": {},
   "outputs": [],
   "source": [
    "def std_data(data: pd.DataFrame):\n",
    "    def std_smi(smiles):\n",
    "        std = standardize_smiles(smiles)\n",
    "        if std != smiles: print(f\"Successfully standardized smiles: {std}\")\n",
    "        return std\n",
    "    data['Smiles'] = data['Smiles'].apply(std_smi)\n",
    "    return data"
   ]
  },
  {
   "cell_type": "code",
   "execution_count": null,
   "metadata": {},
   "outputs": [],
   "source": [
    "df_std = std_data(data_new)"
   ]
  },
  {
   "cell_type": "markdown",
   "metadata": {},
   "source": [
    "Grouping & Sorting (2 Layers)"
   ]
  },
  {
   "cell_type": "code",
   "execution_count": null,
   "metadata": {},
   "outputs": [],
   "source": [
    "def sorting_data(data):\n",
    "    # import library to handle sql query (not suitable to pandas)\n",
    "    from pandasql import sqldf\n",
    "    # transform to list > connected with '_' (common separator style in sql)\n",
    "    df_cols = ['_'.join(col.split(' ')) for col in data.columns]\n",
    "    # copy the data frame to df_mod\n",
    "    df_mod = data.copy()\n",
    "    # change column name\n",
    "    df_mod.columns = df_cols\n",
    "    query = \"\"\"\n",
    "    SELECT\n",
    "    Assay_ChEMBL_ID,\n",
    "    Smiles,\n",
    "    MAX(Standard_Value) AS pIC50\n",
    "    FROM df_mod\n",
    "    -- Agregate based on the assay procedure and smiles respectively, in each assay > look for the max value\n",
    "    GROUP BY Assay_ChEMBL_ID, Smiles\n",
    "    -- Sort by the size of assay procedure\n",
    "    ORDER BY COUNT(Assay_ChEMBL_ID) DESC;\n",
    "    \"\"\"\n",
    "    df_sorted = sqldf(query)\n",
    "    return df_sorted"
   ]
  },
  {
   "cell_type": "code",
   "execution_count": null,
   "metadata": {},
   "outputs": [],
   "source": [
    "df_sort = sorting_data(df_std)"
   ]
  },
  {
   "cell_type": "markdown",
   "metadata": {},
   "source": [
    "Executing Selective Cleaning"
   ]
  },
  {
   "cell_type": "code",
   "execution_count": null,
   "metadata": {},
   "outputs": [],
   "source": [
    "def selective_removal(data):\n",
    "    print(f'Before dropping duplicates: {data.shape}')\n",
    "    data = data.drop_duplicates(subset=['Smiles'])\n",
    "    print(f'After dropping duplicates: {data.shape}')\n",
    "    return data"
   ]
  },
  {
   "cell_type": "code",
   "execution_count": null,
   "metadata": {},
   "outputs": [],
   "source": [
    "df_maxIC50 = selective_removal(df_sort)"
   ]
  },
  {
   "cell_type": "code",
   "execution_count": null,
   "metadata": {},
   "outputs": [],
   "source": [
    "df_maxIC50[['Smiles', 'pIC50']].to_csv('data_maxIC50_cleaned.csv', index=False)"
   ]
  }
 ],
 "metadata": {
  "kernelspec": {
   "display_name": "Python 3",
   "language": "python",
   "name": "python3"
  },
  "language_info": {
   "codemirror_mode": {
    "name": "ipython",
    "version": 3
   },
   "file_extension": ".py",
   "mimetype": "text/x-python",
   "name": "python",
   "nbconvert_exporter": "python",
   "pygments_lexer": "ipython3",
   "version": "3.11.4"
  }
 },
 "nbformat": 4,
 "nbformat_minor": 2
}
