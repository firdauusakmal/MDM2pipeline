{
 "cells": [
  {
   "cell_type": "code",
   "execution_count": 2,
   "metadata": {},
   "outputs": [],
   "source": [
    "import pandas as pd"
   ]
  },
  {
   "cell_type": "code",
   "execution_count": 2,
   "metadata": {},
   "outputs": [],
   "source": [
    "def collect_data(url):\n",
    "    import requests\n",
    "    import zipfile\n",
    "    import io\n",
    "    response = requests.get(url)\n",
    "    if response.status_code == 200:\n",
    "        # Reading zip file from requests response\n",
    "        zip_file = zipfile.ZipFile(io.BytesIO(response.content))\n",
    "        # Printing file content in zip\n",
    "        list_of_files = zip_file.namelist()\n",
    "        print(\"ZIP file content:\")\n",
    "        for file_name in list_of_files:\n",
    "            print(file_name)\n",
    "        # Extracting file from zip\n",
    "        zip_file.extractall()\n",
    "        print(\"Successfully extracted zip file.\")\n",
    "    else:\n",
    "        print(\"Failed to download file. Response:\", response.status_code)\n",
    "    return file_name"
   ]
  },
  {
   "cell_type": "code",
   "execution_count": 3,
   "metadata": {},
   "outputs": [],
   "source": [
    "# copy url for csv download here\n",
    "# TODO: the urls need to be updated\n",
    "urls = [\n",
    "    \"https://www.ebi.ac.uk/chembl/interface_api/delayed_jobs/outputs/DOWNLOAD-TyK57H3Jm1mAnrOx9bQFst7sKvrpnaFiECEPv9KxldU=/DOWNLOAD-TyK57H3Jm1mAnrOx9bQFst7sKvrpnaFiECEPv9KxldU=.zip\",\n",
    "    \"https://www.ebi.ac.uk/chembl/interface_api/delayed_jobs/outputs/DOWNLOAD-_1WCrliOUA5F3JVss-saOqsaJ8-pwb9NLfgygYmLUsI=/DOWNLOAD-_1WCrliOUA5F3JVss-saOqsaJ8-pwb9NLfgygYmLUsI=.zip\"\n",
    "]"
   ]
  },
  {
   "cell_type": "code",
   "execution_count": 2,
   "metadata": {},
   "outputs": [
    {
     "ename": "NameError",
     "evalue": "name 'urls' is not defined",
     "output_type": "error",
     "traceback": [
      "\u001b[1;31m---------------------------------------------------------------------------\u001b[0m",
      "\u001b[1;31mNameError\u001b[0m                                 Traceback (most recent call last)",
      "Cell \u001b[1;32mIn[2], line 2\u001b[0m\n\u001b[0;32m      1\u001b[0m file_names \u001b[38;5;241m=\u001b[39m []\n\u001b[1;32m----> 2\u001b[0m \u001b[38;5;28;01mfor\u001b[39;00m url \u001b[38;5;129;01min\u001b[39;00m \u001b[43murls\u001b[49m:\n\u001b[0;32m      3\u001b[0m     \u001b[38;5;66;03m# store file name in file_names\u001b[39;00m\n\u001b[0;32m      4\u001b[0m     file_names\u001b[38;5;241m.\u001b[39mappend(collect_data(url))\n",
      "\u001b[1;31mNameError\u001b[0m: name 'urls' is not defined"
     ]
    }
   ],
   "source": [
    "file_names = []\n",
    "for url in urls:\n",
    "    # store file name in file_names\n",
    "    file_names.append(collect_data(url))"
   ]
  },
  {
   "cell_type": "code",
   "execution_count": 2,
   "metadata": {},
   "outputs": [
    {
     "name": "stdout",
     "output_type": "stream",
     "text": [
      " Volume in drive D is DATA\n",
      " Volume Serial Number is 2403-7959\n",
      "\n",
      " Directory of d:\\PhD Research\\MDM2 Project\\D1\\D1_all_assay_mdm2\n",
      "\n",
      "29/01/2024  06:24 pm    <DIR>          .\n",
      "19/01/2024  03:20 pm    <DIR>          ..\n",
      "29/01/2024  06:24 pm           327,234 data_train.csv\n",
      "29/01/2024  02:50 pm         2,053,445 DOWNLOAD-_1WCrliOUA5F3JVss-saOqsaJ8-pwb9NLfgygYmLUsI=.csv\n",
      "29/01/2024  02:50 pm         3,326,441 DOWNLOAD-TyK57H3Jm1mAnrOx9bQFst7sKvrpnaFiECEPv9KxldU=.csv\n",
      "05/04/2024  03:13 pm            28,702 prep_ml_d1_all_assay_mdm2.ipynb\n",
      "               4 File(s)      5,735,822 bytes\n",
      "               2 Dir(s)  192,288,043,008 bytes free\n"
     ]
    }
   ],
   "source": [
    "ls"
   ]
  },
  {
   "cell_type": "code",
   "execution_count": 20,
   "metadata": {},
   "outputs": [],
   "source": [
    "test = pd.read_csv('DOWNLOAD-TyK57H3Jm1mAnrOx9bQFst7sKvrpnaFiECEPv9KxldU=.csv', sep=';')"
   ]
  },
  {
   "cell_type": "code",
   "execution_count": 21,
   "metadata": {},
   "outputs": [
    {
     "data": {
      "text/plain": [
       "Index(['Molecule ChEMBL ID', 'Molecule Name', 'Molecule Max Phase',\n",
       "       'Molecular Weight', '#RO5 Violations', 'AlogP', 'Compound Key',\n",
       "       'Smiles', 'Standard Type', 'Standard Relation', 'Standard Value',\n",
       "       'Standard Units', 'pChEMBL Value', 'Data Validity Comment', 'Comment',\n",
       "       'Uo Units', 'Ligand Efficiency BEI', 'Ligand Efficiency LE',\n",
       "       'Ligand Efficiency LLE', 'Ligand Efficiency SEI', 'Potential Duplicate',\n",
       "       'Assay ChEMBL ID', 'Assay Description', 'Assay Type', 'BAO Format ID',\n",
       "       'BAO Label', 'Assay Organism', 'Assay Tissue ChEMBL ID',\n",
       "       'Assay Tissue Name', 'Assay Cell Type', 'Assay Subcellular Fraction',\n",
       "       'Assay Parameters', 'Assay Variant Accession', 'Assay Variant Mutation',\n",
       "       'Target ChEMBL ID', 'Target Name', 'Target Organism', 'Target Type',\n",
       "       'Document ChEMBL ID', 'Source ID', 'Source Description',\n",
       "       'Document Journal', 'Document Year', 'Cell ChEMBL ID', 'Properties',\n",
       "       'Action Type'],\n",
       "      dtype='object')"
      ]
     },
     "execution_count": 21,
     "metadata": {},
     "output_type": "execute_result"
    }
   ],
   "source": [
    "test.columns"
   ]
  },
  {
   "cell_type": "code",
   "execution_count": 22,
   "metadata": {},
   "outputs": [
    {
     "data": {
      "text/plain": [
       "(2970, 46)"
      ]
     },
     "execution_count": 22,
     "metadata": {},
     "output_type": "execute_result"
    }
   ],
   "source": [
    "test.shape"
   ]
  },
  {
   "cell_type": "code",
   "execution_count": 21,
   "metadata": {},
   "outputs": [],
   "source": [
    "# In case you don't want to redownload the csv files online\n",
    "# run this block to read csv file names available in current directory\n",
    "# if you ran previous block above, just skip this block\n",
    "from pathlib import Path\n",
    "file_names = []\n",
    "files = Path('./')\n",
    "for file in files.iterdir():\n",
    "    if 'DOWNLOAD' in file.name:\n",
    "        file_names.append(file.name)"
   ]
  },
  {
   "cell_type": "code",
   "execution_count": 22,
   "metadata": {},
   "outputs": [
    {
     "data": {
      "text/plain": [
       "['DOWNLOAD-TyK57H3Jm1mAnrOx9bQFst7sKvrpnaFiECEPv9KxldU=.csv',\n",
       " 'DOWNLOAD-_1WCrliOUA5F3JVss-saOqsaJ8-pwb9NLfgygYmLUsI=.csv']"
      ]
     },
     "execution_count": 22,
     "metadata": {},
     "output_type": "execute_result"
    }
   ],
   "source": [
    "file_names"
   ]
  },
  {
   "cell_type": "code",
   "execution_count": 23,
   "metadata": {},
   "outputs": [],
   "source": [
    "def clean_data(files):\n",
    "    import pandas as pd\n",
    "    import numpy as np\n",
    "    # initiate data_main, main data frame that will be used to aggregate all csv\n",
    "    # only use chembl ID, smile, and standard value columns\n",
    "    data_main = pd.DataFrame({'Assay ChEMBL ID':[], 'Molecule ChEMBL ID':[], 'Smiles':[], 'Standard Relation':[], 'Standard Value':[], 'Molecular Weight':[]})\n",
    "    # for every csv downloaded, do these following tasks\n",
    "    for file in files:\n",
    "        # read data\n",
    "        data = pd.read_csv(file, sep=';')\n",
    "        # drop rows if Smiles or Standard Value is null\n",
    "        removed_null = data.dropna(subset=['Smiles', 'Standard Value', 'Standard Relation'])\n",
    "        # slice data from initial data frame. only use columns in data_main\n",
    "        sliced = removed_null[data_main.columns]\n",
    "        # filter the standard relation to only \"=\"\n",
    "        sliced = sliced[sliced['Standard Relation'].str.contains('=')]\n",
    "        # filter 100 < MW < 900 (Small molecules)\n",
    "        sliced = sliced[(sliced['Molecular Weight'] > 100) & (sliced['Molecular Weight'] < 750)]\n",
    "        # convert IC50 to pIC50\n",
    "        # convert IC50 from nM to M\n",
    "        sliced.loc[:, ['Standard Value']] = sliced[['Standard Value']].apply(lambda x: x*10**-9, axis=1)\n",
    "        # transform to pIC50\n",
    "        sliced.loc[:, ['Standard Value']] = -np.log10(sliced[['Standard Value']])\n",
    "        # join data\n",
    "        data_main = pd.concat([data_main, sliced])\n",
    "    # drop duplicates according to Smiles column\n",
    "    # data_main = data_main.drop_duplicates(subset=['Smiles'])\n",
    "    return data_main[['Assay ChEMBL ID', 'Molecule ChEMBL ID', 'Smiles', 'Standard Value']]\n",
    "        "
   ]
  },
  {
   "cell_type": "code",
   "execution_count": 24,
   "metadata": {},
   "outputs": [],
   "source": [
    "# store result of data processing in df_main\n",
    "df_main = clean_data(file_names)"
   ]
  },
  {
   "cell_type": "code",
   "execution_count": 25,
   "metadata": {},
   "outputs": [
    {
     "data": {
      "text/html": [
       "<div>\n",
       "<style scoped>\n",
       "    .dataframe tbody tr th:only-of-type {\n",
       "        vertical-align: middle;\n",
       "    }\n",
       "\n",
       "    .dataframe tbody tr th {\n",
       "        vertical-align: top;\n",
       "    }\n",
       "\n",
       "    .dataframe thead th {\n",
       "        text-align: right;\n",
       "    }\n",
       "</style>\n",
       "<table border=\"1\" class=\"dataframe\">\n",
       "  <thead>\n",
       "    <tr style=\"text-align: right;\">\n",
       "      <th></th>\n",
       "      <th>Assay ChEMBL ID</th>\n",
       "      <th>Molecule ChEMBL ID</th>\n",
       "      <th>Smiles</th>\n",
       "      <th>Standard Value</th>\n",
       "    </tr>\n",
       "  </thead>\n",
       "  <tbody>\n",
       "    <tr>\n",
       "      <th>0</th>\n",
       "      <td>CHEMBL3370341</td>\n",
       "      <td>CHEMBL3318761</td>\n",
       "      <td>C[C@]1(CC(=O)O)C[C@H](c2cccc(Cl)c2)[C@@H](c2cc...</td>\n",
       "      <td>10.229148</td>\n",
       "    </tr>\n",
       "    <tr>\n",
       "      <th>1</th>\n",
       "      <td>CHEMBL3370341</td>\n",
       "      <td>CHEMBL3318777</td>\n",
       "      <td>CN(C1CC1)S(=O)(=O)C[C@@H](N1C(=O)[C@@](C)(CC(=...</td>\n",
       "      <td>9.420216</td>\n",
       "    </tr>\n",
       "    <tr>\n",
       "      <th>2</th>\n",
       "      <td>CHEMBL3370341</td>\n",
       "      <td>CHEMBL3318779</td>\n",
       "      <td>C[C@@H]1CCCN1S(=O)(=O)C[C@@H](N1C(=O)[C@@](C)(...</td>\n",
       "      <td>9.823909</td>\n",
       "    </tr>\n",
       "    <tr>\n",
       "      <th>3</th>\n",
       "      <td>CHEMBL3370341</td>\n",
       "      <td>CHEMBL3318780</td>\n",
       "      <td>C[C@H]1CCCN1S(=O)(=O)C[C@@H](N1C(=O)[C@@](C)(C...</td>\n",
       "      <td>8.958607</td>\n",
       "    </tr>\n",
       "    <tr>\n",
       "      <th>4</th>\n",
       "      <td>CHEMBL3370341</td>\n",
       "      <td>CHEMBL3318781</td>\n",
       "      <td>CN1CCN(S(=O)(=O)C[C@@H](N2C(=O)[C@@](C)(CC(=O)...</td>\n",
       "      <td>10.130768</td>\n",
       "    </tr>\n",
       "    <tr>\n",
       "      <th>...</th>\n",
       "      <td>...</td>\n",
       "      <td>...</td>\n",
       "      <td>...</td>\n",
       "      <td>...</td>\n",
       "    </tr>\n",
       "    <tr>\n",
       "      <th>1609</th>\n",
       "      <td>CHEMBL4681440</td>\n",
       "      <td>CHEMBL4744488</td>\n",
       "      <td>CC(=O)N[C@@H]1[C@H](C)N(CC2CC2)[C@@]2(C(=O)Nc3...</td>\n",
       "      <td>6.640165</td>\n",
       "    </tr>\n",
       "    <tr>\n",
       "      <th>1610</th>\n",
       "      <td>CHEMBL5110382</td>\n",
       "      <td>CHEMBL5180348</td>\n",
       "      <td>CCOC(=O)C1=NN(c2ccc(Cl)cc2)C2(C(=O)Nc3cc(Cl)cc...</td>\n",
       "      <td>7.150581</td>\n",
       "    </tr>\n",
       "    <tr>\n",
       "      <th>1611</th>\n",
       "      <td>CHEMBL5135142</td>\n",
       "      <td>CHEMBL5191434</td>\n",
       "      <td>CCC[C@H]1N(C(=O)c2cnccc2C)CCC[C@@]1(Oc1csc(C(F...</td>\n",
       "      <td>7.468521</td>\n",
       "    </tr>\n",
       "    <tr>\n",
       "      <th>1614</th>\n",
       "      <td>CHEMBL5135142</td>\n",
       "      <td>CHEMBL5191746</td>\n",
       "      <td>CCC[C@H]1N(C(=O)c2cnccc2C(F)(F)F)CCC[C@@]1(Oc1...</td>\n",
       "      <td>7.522879</td>\n",
       "    </tr>\n",
       "    <tr>\n",
       "      <th>1617</th>\n",
       "      <td>CHEMBL5030008</td>\n",
       "      <td>CHEMBL5079411</td>\n",
       "      <td>C[C@@H](Nc1nc(C(=O)O)nc2nc(NC3CCCCC3)n(Cc3ccc(...</td>\n",
       "      <td>8.119186</td>\n",
       "    </tr>\n",
       "  </tbody>\n",
       "</table>\n",
       "<p>2954 rows × 4 columns</p>\n",
       "</div>"
      ],
      "text/plain": [
       "     Assay ChEMBL ID Molecule ChEMBL ID  \\\n",
       "0      CHEMBL3370341      CHEMBL3318761   \n",
       "1      CHEMBL3370341      CHEMBL3318777   \n",
       "2      CHEMBL3370341      CHEMBL3318779   \n",
       "3      CHEMBL3370341      CHEMBL3318780   \n",
       "4      CHEMBL3370341      CHEMBL3318781   \n",
       "...              ...                ...   \n",
       "1609   CHEMBL4681440      CHEMBL4744488   \n",
       "1610   CHEMBL5110382      CHEMBL5180348   \n",
       "1611   CHEMBL5135142      CHEMBL5191434   \n",
       "1614   CHEMBL5135142      CHEMBL5191746   \n",
       "1617   CHEMBL5030008      CHEMBL5079411   \n",
       "\n",
       "                                                 Smiles  Standard Value  \n",
       "0     C[C@]1(CC(=O)O)C[C@H](c2cccc(Cl)c2)[C@@H](c2cc...       10.229148  \n",
       "1     CN(C1CC1)S(=O)(=O)C[C@@H](N1C(=O)[C@@](C)(CC(=...        9.420216  \n",
       "2     C[C@@H]1CCCN1S(=O)(=O)C[C@@H](N1C(=O)[C@@](C)(...        9.823909  \n",
       "3     C[C@H]1CCCN1S(=O)(=O)C[C@@H](N1C(=O)[C@@](C)(C...        8.958607  \n",
       "4     CN1CCN(S(=O)(=O)C[C@@H](N2C(=O)[C@@](C)(CC(=O)...       10.130768  \n",
       "...                                                 ...             ...  \n",
       "1609  CC(=O)N[C@@H]1[C@H](C)N(CC2CC2)[C@@]2(C(=O)Nc3...        6.640165  \n",
       "1610  CCOC(=O)C1=NN(c2ccc(Cl)cc2)C2(C(=O)Nc3cc(Cl)cc...        7.150581  \n",
       "1611  CCC[C@H]1N(C(=O)c2cnccc2C)CCC[C@@]1(Oc1csc(C(F...        7.468521  \n",
       "1614  CCC[C@H]1N(C(=O)c2cnccc2C(F)(F)F)CCC[C@@]1(Oc1...        7.522879  \n",
       "1617  C[C@@H](Nc1nc(C(=O)O)nc2nc(NC3CCCCC3)n(Cc3ccc(...        8.119186  \n",
       "\n",
       "[2954 rows x 4 columns]"
      ]
     },
     "execution_count": 25,
     "metadata": {},
     "output_type": "execute_result"
    }
   ],
   "source": [
    "df_main"
   ]
  },
  {
   "cell_type": "code",
   "execution_count": 26,
   "metadata": {},
   "outputs": [
    {
     "data": {
      "text/html": [
       "<div>\n",
       "<style scoped>\n",
       "    .dataframe tbody tr th:only-of-type {\n",
       "        vertical-align: middle;\n",
       "    }\n",
       "\n",
       "    .dataframe tbody tr th {\n",
       "        vertical-align: top;\n",
       "    }\n",
       "\n",
       "    .dataframe thead th {\n",
       "        text-align: right;\n",
       "    }\n",
       "</style>\n",
       "<table border=\"1\" class=\"dataframe\">\n",
       "  <thead>\n",
       "    <tr style=\"text-align: right;\">\n",
       "      <th></th>\n",
       "      <th>Standard Value</th>\n",
       "    </tr>\n",
       "  </thead>\n",
       "  <tbody>\n",
       "    <tr>\n",
       "      <th>count</th>\n",
       "      <td>2954.000000</td>\n",
       "    </tr>\n",
       "    <tr>\n",
       "      <th>mean</th>\n",
       "      <td>7.533789</td>\n",
       "    </tr>\n",
       "    <tr>\n",
       "      <th>std</th>\n",
       "      <td>1.711429</td>\n",
       "    </tr>\n",
       "    <tr>\n",
       "      <th>min</th>\n",
       "      <td>2.992252</td>\n",
       "    </tr>\n",
       "    <tr>\n",
       "      <th>25%</th>\n",
       "      <td>6.238460</td>\n",
       "    </tr>\n",
       "    <tr>\n",
       "      <th>50%</th>\n",
       "      <td>7.845577</td>\n",
       "    </tr>\n",
       "    <tr>\n",
       "      <th>75%</th>\n",
       "      <td>8.958607</td>\n",
       "    </tr>\n",
       "    <tr>\n",
       "      <th>max</th>\n",
       "      <td>10.397940</td>\n",
       "    </tr>\n",
       "  </tbody>\n",
       "</table>\n",
       "</div>"
      ],
      "text/plain": [
       "       Standard Value\n",
       "count     2954.000000\n",
       "mean         7.533789\n",
       "std          1.711429\n",
       "min          2.992252\n",
       "25%          6.238460\n",
       "50%          7.845577\n",
       "75%          8.958607\n",
       "max         10.397940"
      ]
     },
     "execution_count": 26,
     "metadata": {},
     "output_type": "execute_result"
    }
   ],
   "source": [
    "df_main.describe()"
   ]
  },
  {
   "cell_type": "code",
   "execution_count": 27,
   "metadata": {},
   "outputs": [],
   "source": [
    "# save df_main to a csv file\n",
    "df_main.to_csv('data_MW_threshold.csv')"
   ]
  },
  {
   "cell_type": "code",
   "execution_count": 1,
   "metadata": {},
   "outputs": [],
   "source": [
    "import pandas as pd"
   ]
  },
  {
   "cell_type": "code",
   "execution_count": 31,
   "metadata": {},
   "outputs": [],
   "source": [
    "data_new = pd.read_csv('data_cleaned.csv', index_col=0)"
   ]
  },
  {
   "cell_type": "code",
   "execution_count": 32,
   "metadata": {},
   "outputs": [
    {
     "data": {
      "text/html": [
       "<div>\n",
       "<style scoped>\n",
       "    .dataframe tbody tr th:only-of-type {\n",
       "        vertical-align: middle;\n",
       "    }\n",
       "\n",
       "    .dataframe tbody tr th {\n",
       "        vertical-align: top;\n",
       "    }\n",
       "\n",
       "    .dataframe thead th {\n",
       "        text-align: right;\n",
       "    }\n",
       "</style>\n",
       "<table border=\"1\" class=\"dataframe\">\n",
       "  <thead>\n",
       "    <tr style=\"text-align: right;\">\n",
       "      <th></th>\n",
       "      <th>Assay ChEMBL ID</th>\n",
       "      <th>Molecule ChEMBL ID</th>\n",
       "      <th>Smiles</th>\n",
       "      <th>Standard Value</th>\n",
       "    </tr>\n",
       "  </thead>\n",
       "  <tbody>\n",
       "    <tr>\n",
       "      <th>0</th>\n",
       "      <td>CHEMBL3370341</td>\n",
       "      <td>CHEMBL3318761</td>\n",
       "      <td>C[C@]1(CC(=O)O)C[C@H](c2cccc(Cl)c2)[C@@H](c2cc...</td>\n",
       "      <td>10.229148</td>\n",
       "    </tr>\n",
       "    <tr>\n",
       "      <th>1</th>\n",
       "      <td>CHEMBL3370341</td>\n",
       "      <td>CHEMBL3318777</td>\n",
       "      <td>CN(C1CC1)S(=O)(=O)C[C@@H](N1C(=O)[C@@](C)(CC(=...</td>\n",
       "      <td>9.420216</td>\n",
       "    </tr>\n",
       "    <tr>\n",
       "      <th>2</th>\n",
       "      <td>CHEMBL3370341</td>\n",
       "      <td>CHEMBL3318779</td>\n",
       "      <td>C[C@@H]1CCCN1S(=O)(=O)C[C@@H](N1C(=O)[C@@](C)(...</td>\n",
       "      <td>9.823909</td>\n",
       "    </tr>\n",
       "    <tr>\n",
       "      <th>3</th>\n",
       "      <td>CHEMBL3370341</td>\n",
       "      <td>CHEMBL3318780</td>\n",
       "      <td>C[C@H]1CCCN1S(=O)(=O)C[C@@H](N1C(=O)[C@@](C)(C...</td>\n",
       "      <td>8.958607</td>\n",
       "    </tr>\n",
       "    <tr>\n",
       "      <th>4</th>\n",
       "      <td>CHEMBL3370341</td>\n",
       "      <td>CHEMBL3318781</td>\n",
       "      <td>CN1CCN(S(=O)(=O)C[C@@H](N2C(=O)[C@@](C)(CC(=O)...</td>\n",
       "      <td>10.130768</td>\n",
       "    </tr>\n",
       "  </tbody>\n",
       "</table>\n",
       "</div>"
      ],
      "text/plain": [
       "  Assay ChEMBL ID Molecule ChEMBL ID  \\\n",
       "0   CHEMBL3370341      CHEMBL3318761   \n",
       "1   CHEMBL3370341      CHEMBL3318777   \n",
       "2   CHEMBL3370341      CHEMBL3318779   \n",
       "3   CHEMBL3370341      CHEMBL3318780   \n",
       "4   CHEMBL3370341      CHEMBL3318781   \n",
       "\n",
       "                                              Smiles  Standard Value  \n",
       "0  C[C@]1(CC(=O)O)C[C@H](c2cccc(Cl)c2)[C@@H](c2cc...       10.229148  \n",
       "1  CN(C1CC1)S(=O)(=O)C[C@@H](N1C(=O)[C@@](C)(CC(=...        9.420216  \n",
       "2  C[C@@H]1CCCN1S(=O)(=O)C[C@@H](N1C(=O)[C@@](C)(...        9.823909  \n",
       "3  C[C@H]1CCCN1S(=O)(=O)C[C@@H](N1C(=O)[C@@](C)(C...        8.958607  \n",
       "4  CN1CCN(S(=O)(=O)C[C@@H](N2C(=O)[C@@](C)(CC(=O)...       10.130768  "
      ]
     },
     "execution_count": 32,
     "metadata": {},
     "output_type": "execute_result"
    }
   ],
   "source": [
    "data_new.head()"
   ]
  },
  {
   "cell_type": "code",
   "execution_count": 4,
   "metadata": {},
   "outputs": [
    {
     "name": "stdout",
     "output_type": "stream",
     "text": [
      "Requirement already satisfied: molvs in c:\\users\\noviasari\\anaconda3\\lib\\site-packages (0.1.1)\n",
      "Requirement already satisfied: six in c:\\users\\noviasari\\appdata\\roaming\\python\\python311\\site-packages (from molvs) (1.16.0)\n"
     ]
    }
   ],
   "source": [
    "!pip install molvs"
   ]
  },
  {
   "cell_type": "code",
   "execution_count": 1,
   "metadata": {},
   "outputs": [],
   "source": [
    "from molvs import standardize_smiles"
   ]
  },
  {
   "cell_type": "code",
   "execution_count": 2,
   "metadata": {},
   "outputs": [
    {
     "data": {
      "text/plain": [
       "'COc1cccc([C@]2C[C@@](N[C](C)c3ccccc3)C(=O)N2c2ccc(C(F)(F)F)cc2)c1'"
      ]
     },
     "execution_count": 2,
     "metadata": {},
     "output_type": "execute_result"
    }
   ],
   "source": [
    "standardize_smiles('FC(F)(F)c1ccc(N2C(=O)[C@](N[C@](C)c3ccccc3)C[C@@]2c2cc(OC)ccc2)cc1')"
   ]
  },
  {
   "cell_type": "code",
   "execution_count": 34,
   "metadata": {},
   "outputs": [],
   "source": [
    "def std_data(data: pd.DataFrame):\n",
    "    def std_smi(smiles):\n",
    "        std = standardize_smiles(smiles)\n",
    "        if std != smiles: print(f\"Successfully standardized smiles: {std}\")\n",
    "        return std\n",
    "    data['Smiles'] = data['Smiles'].apply(std_smi)\n",
    "    return data"
   ]
  },
  {
   "cell_type": "code",
   "execution_count": 35,
   "metadata": {},
   "outputs": [],
   "source": [
    "df_std = std_data(data_new)"
   ]
  },
  {
   "cell_type": "code",
   "execution_count": 38,
   "metadata": {},
   "outputs": [
    {
     "data": {
      "text/html": [
       "<div>\n",
       "<style scoped>\n",
       "    .dataframe tbody tr th:only-of-type {\n",
       "        vertical-align: middle;\n",
       "    }\n",
       "\n",
       "    .dataframe tbody tr th {\n",
       "        vertical-align: top;\n",
       "    }\n",
       "\n",
       "    .dataframe thead th {\n",
       "        text-align: right;\n",
       "    }\n",
       "</style>\n",
       "<table border=\"1\" class=\"dataframe\">\n",
       "  <thead>\n",
       "    <tr style=\"text-align: right;\">\n",
       "      <th></th>\n",
       "      <th>Assay ChEMBL ID</th>\n",
       "      <th>Molecule ChEMBL ID</th>\n",
       "      <th>Smiles</th>\n",
       "      <th>Standard Value</th>\n",
       "    </tr>\n",
       "  </thead>\n",
       "  <tbody>\n",
       "    <tr>\n",
       "      <th>0</th>\n",
       "      <td>CHEMBL3370341</td>\n",
       "      <td>CHEMBL3318761</td>\n",
       "      <td>C[C@]1(CC(=O)O)C[C@H](c2cccc(Cl)c2)[C@@H](c2cc...</td>\n",
       "      <td>10.229148</td>\n",
       "    </tr>\n",
       "    <tr>\n",
       "      <th>1</th>\n",
       "      <td>CHEMBL3370341</td>\n",
       "      <td>CHEMBL3318777</td>\n",
       "      <td>CN(C1CC1)S(=O)(=O)C[C@@H](N1C(=O)[C@@](C)(CC(=...</td>\n",
       "      <td>9.420216</td>\n",
       "    </tr>\n",
       "    <tr>\n",
       "      <th>2</th>\n",
       "      <td>CHEMBL3370341</td>\n",
       "      <td>CHEMBL3318779</td>\n",
       "      <td>C[C@@H]1CCCN1S(=O)(=O)C[C@@H](N1C(=O)[C@@](C)(...</td>\n",
       "      <td>9.823909</td>\n",
       "    </tr>\n",
       "    <tr>\n",
       "      <th>3</th>\n",
       "      <td>CHEMBL3370341</td>\n",
       "      <td>CHEMBL3318780</td>\n",
       "      <td>C[C@H]1CCCN1S(=O)(=O)C[C@@H](N1C(=O)[C@@](C)(C...</td>\n",
       "      <td>8.958607</td>\n",
       "    </tr>\n",
       "    <tr>\n",
       "      <th>4</th>\n",
       "      <td>CHEMBL3370341</td>\n",
       "      <td>CHEMBL3318781</td>\n",
       "      <td>CN1CCN(S(=O)(=O)C[C@@H](N2C(=O)[C@@](C)(CC(=O)...</td>\n",
       "      <td>10.130768</td>\n",
       "    </tr>\n",
       "  </tbody>\n",
       "</table>\n",
       "</div>"
      ],
      "text/plain": [
       "  Assay ChEMBL ID Molecule ChEMBL ID  \\\n",
       "0   CHEMBL3370341      CHEMBL3318761   \n",
       "1   CHEMBL3370341      CHEMBL3318777   \n",
       "2   CHEMBL3370341      CHEMBL3318779   \n",
       "3   CHEMBL3370341      CHEMBL3318780   \n",
       "4   CHEMBL3370341      CHEMBL3318781   \n",
       "\n",
       "                                              Smiles  Standard Value  \n",
       "0  C[C@]1(CC(=O)O)C[C@H](c2cccc(Cl)c2)[C@@H](c2cc...       10.229148  \n",
       "1  CN(C1CC1)S(=O)(=O)C[C@@H](N1C(=O)[C@@](C)(CC(=...        9.420216  \n",
       "2  C[C@@H]1CCCN1S(=O)(=O)C[C@@H](N1C(=O)[C@@](C)(...        9.823909  \n",
       "3  C[C@H]1CCCN1S(=O)(=O)C[C@@H](N1C(=O)[C@@](C)(C...        8.958607  \n",
       "4  CN1CCN(S(=O)(=O)C[C@@H](N2C(=O)[C@@](C)(CC(=O)...       10.130768  "
      ]
     },
     "execution_count": 38,
     "metadata": {},
     "output_type": "execute_result"
    }
   ],
   "source": [
    "df_std.head()"
   ]
  },
  {
   "cell_type": "code",
   "execution_count": 39,
   "metadata": {},
   "outputs": [],
   "source": [
    "df_std.to_csv('data_std.csv')"
   ]
  },
  {
   "cell_type": "code",
   "execution_count": 24,
   "metadata": {},
   "outputs": [
    {
     "name": "stdout",
     "output_type": "stream",
     "text": [
      "Collecting pandasql\n",
      "  Using cached pandasql-0.7.3-py3-none-any.whl\n",
      "Requirement already satisfied: numpy in c:\\users\\noviasari\\appdata\\local\\programs\\python\\python311\\lib\\site-packages (from pandasql) (1.26.2)\n",
      "Requirement already satisfied: pandas in c:\\users\\noviasari\\appdata\\local\\programs\\python\\python311\\lib\\site-packages (from pandasql) (2.1.4)\n",
      "Collecting sqlalchemy (from pandasql)\n",
      "  Downloading SQLAlchemy-2.0.29-cp311-cp311-win_amd64.whl (2.1 MB)\n",
      "                                              0.0/2.1 MB ? eta -:--:--\n",
      "     --                                       0.1/2.1 MB 7.0 MB/s eta 0:00:01\n",
      "     --------                                 0.5/2.1 MB 7.2 MB/s eta 0:00:01\n",
      "     -------------                            0.7/2.1 MB 6.1 MB/s eta 0:00:01\n",
      "     --------------------                     1.1/2.1 MB 6.8 MB/s eta 0:00:01\n",
      "     -------------------------                1.3/2.1 MB 7.0 MB/s eta 0:00:01\n",
      "     -------------------------------          1.6/2.1 MB 6.9 MB/s eta 0:00:01\n",
      "     ------------------------------------     1.9/2.1 MB 6.7 MB/s eta 0:00:01\n",
      "     ---------------------------------------  2.1/2.1 MB 6.6 MB/s eta 0:00:01\n",
      "     ---------------------------------------- 2.1/2.1 MB 6.3 MB/s eta 0:00:00\n",
      "Requirement already satisfied: python-dateutil>=2.8.2 in c:\\users\\noviasari\\appdata\\roaming\\python\\python311\\site-packages (from pandas->pandasql) (2.8.2)\n",
      "Requirement already satisfied: pytz>=2020.1 in c:\\users\\noviasari\\appdata\\local\\programs\\python\\python311\\lib\\site-packages (from pandas->pandasql) (2023.3.post1)\n",
      "Requirement already satisfied: tzdata>=2022.1 in c:\\users\\noviasari\\appdata\\local\\programs\\python\\python311\\lib\\site-packages (from pandas->pandasql) (2023.4)\n",
      "Requirement already satisfied: typing-extensions>=4.6.0 in c:\\users\\noviasari\\appdata\\local\\programs\\python\\python311\\lib\\site-packages (from sqlalchemy->pandasql) (4.9.0)\n",
      "Collecting greenlet!=0.4.17 (from sqlalchemy->pandasql)\n",
      "  Downloading greenlet-3.0.3-cp311-cp311-win_amd64.whl (292 kB)\n",
      "                                              0.0/292.8 kB ? eta -:--:--\n",
      "     -------------------------------------- 292.8/292.8 kB 8.8 MB/s eta 0:00:00\n",
      "Requirement already satisfied: six>=1.5 in c:\\users\\noviasari\\appdata\\roaming\\python\\python311\\site-packages (from python-dateutil>=2.8.2->pandas->pandasql) (1.16.0)\n",
      "Installing collected packages: greenlet, sqlalchemy, pandasql\n",
      "Successfully installed greenlet-3.0.3 pandasql-0.7.3 sqlalchemy-2.0.29\n",
      "Note: you may need to restart the kernel to use updated packages.\n"
     ]
    },
    {
     "name": "stderr",
     "output_type": "stream",
     "text": [
      "\n",
      "[notice] A new release of pip is available: 23.1.2 -> 24.0\n",
      "[notice] To update, run: python.exe -m pip install --upgrade pip\n"
     ]
    }
   ],
   "source": [
    "pip install pandasql"
   ]
  },
  {
   "cell_type": "code",
   "execution_count": 40,
   "metadata": {},
   "outputs": [],
   "source": [
    "import pandasql"
   ]
  },
  {
   "cell_type": "code",
   "execution_count": 41,
   "metadata": {},
   "outputs": [],
   "source": [
    "def sorting_data(data):\n",
    "    from pandasql import sqldf\n",
    "    df_cols = ['_'.join(col.split(' ')) for col in data.columns]\n",
    "    df_mod = data.copy()\n",
    "    df_mod.columns = df_cols\n",
    "    query = \"\"\"\n",
    "    SELECT\n",
    "    Assay_ChEMBL_ID,\n",
    "    Smiles,\n",
    "    MAX(Standard_Value) AS pIC50\n",
    "    FROM df_mod\n",
    "    GROUP BY Assay_ChEMBL_ID, Smiles\n",
    "    ORDER BY COUNT(Assay_ChEMBL_ID) DESC;\n",
    "    \"\"\"\n",
    "    df_sorted = sqldf(query)\n",
    "    return df_sorted"
   ]
  },
  {
   "cell_type": "code",
   "execution_count": 42,
   "metadata": {},
   "outputs": [],
   "source": [
    "df_sort = sorting_data(df_std)"
   ]
  },
  {
   "cell_type": "code",
   "execution_count": 43,
   "metadata": {},
   "outputs": [
    {
     "data": {
      "text/html": [
       "<div>\n",
       "<style scoped>\n",
       "    .dataframe tbody tr th:only-of-type {\n",
       "        vertical-align: middle;\n",
       "    }\n",
       "\n",
       "    .dataframe tbody tr th {\n",
       "        vertical-align: top;\n",
       "    }\n",
       "\n",
       "    .dataframe thead th {\n",
       "        text-align: right;\n",
       "    }\n",
       "</style>\n",
       "<table border=\"1\" class=\"dataframe\">\n",
       "  <thead>\n",
       "    <tr style=\"text-align: right;\">\n",
       "      <th></th>\n",
       "      <th>Assay_ChEMBL_ID</th>\n",
       "      <th>Smiles</th>\n",
       "      <th>pIC50</th>\n",
       "    </tr>\n",
       "  </thead>\n",
       "  <tbody>\n",
       "    <tr>\n",
       "      <th>0</th>\n",
       "      <td>CHEMBL3706024</td>\n",
       "      <td>C[C@H]1CC[C@H](Cn2c(N3CCCC4CCCC43)nc3cc(-c4noc...</td>\n",
       "      <td>9.000000</td>\n",
       "    </tr>\n",
       "    <tr>\n",
       "      <th>1</th>\n",
       "      <td>CHEMBL3706331</td>\n",
       "      <td>C[C@H]1CC[C@H](Cn2c(N3CCCC4CCCC43)nc3cc(-c4noc...</td>\n",
       "      <td>9.000000</td>\n",
       "    </tr>\n",
       "    <tr>\n",
       "      <th>2</th>\n",
       "      <td>CHEMBL3706024</td>\n",
       "      <td>COCC(C)c1nc2cc(-c3noc(=O)[nH]3)nc(-c3cncc(Cl)c...</td>\n",
       "      <td>9.000000</td>\n",
       "    </tr>\n",
       "    <tr>\n",
       "      <th>3</th>\n",
       "      <td>CHEMBL3706024</td>\n",
       "      <td>C[C@H]1CC[C@H](Cn2c(N3CCO[C@H]4CC(F)C[C@@H]43)...</td>\n",
       "      <td>9.000000</td>\n",
       "    </tr>\n",
       "    <tr>\n",
       "      <th>4</th>\n",
       "      <td>CHEMBL3706331</td>\n",
       "      <td>COCC(C)c1nc2cc(-c3noc(=O)[nH]3)nc(-c3cncc(Cl)c...</td>\n",
       "      <td>9.000000</td>\n",
       "    </tr>\n",
       "    <tr>\n",
       "      <th>5</th>\n",
       "      <td>CHEMBL3706331</td>\n",
       "      <td>C[C@H]1CC[C@H](Cn2c(N3CCO[C@@H]4CC(F)C[C@H]43)...</td>\n",
       "      <td>9.000000</td>\n",
       "    </tr>\n",
       "    <tr>\n",
       "      <th>6</th>\n",
       "      <td>CHEMBL1838865</td>\n",
       "      <td>N#Cc1ccc(CN2C(=O)c3cccc(Cl)c3C2(OCC2(CO)CC2)c2...</td>\n",
       "      <td>6.866461</td>\n",
       "    </tr>\n",
       "    <tr>\n",
       "      <th>7</th>\n",
       "      <td>CHEMBL1838865</td>\n",
       "      <td>O=C1c2cccc(Cl)c2C(OCC2(CO)CC2)(c2ccc(Cl)cc2)N1...</td>\n",
       "      <td>6.863279</td>\n",
       "    </tr>\n",
       "    <tr>\n",
       "      <th>8</th>\n",
       "      <td>CHEMBL1838865</td>\n",
       "      <td>O=C1c2cccc(Cl)c2C(OCC2(CO)CC2)(c2ccc(Cl)cc2)N1...</td>\n",
       "      <td>7.356547</td>\n",
       "    </tr>\n",
       "    <tr>\n",
       "      <th>9</th>\n",
       "      <td>CHEMBL3705908</td>\n",
       "      <td>O=C1c2cccc(Cl)c2C(OCC2(CO)CC2)(c2ccc(Cl)cc2)N1...</td>\n",
       "      <td>7.397940</td>\n",
       "    </tr>\n",
       "  </tbody>\n",
       "</table>\n",
       "</div>"
      ],
      "text/plain": [
       "  Assay_ChEMBL_ID                                             Smiles     pIC50\n",
       "0   CHEMBL3706024  C[C@H]1CC[C@H](Cn2c(N3CCCC4CCCC43)nc3cc(-c4noc...  9.000000\n",
       "1   CHEMBL3706331  C[C@H]1CC[C@H](Cn2c(N3CCCC4CCCC43)nc3cc(-c4noc...  9.000000\n",
       "2   CHEMBL3706024  COCC(C)c1nc2cc(-c3noc(=O)[nH]3)nc(-c3cncc(Cl)c...  9.000000\n",
       "3   CHEMBL3706024  C[C@H]1CC[C@H](Cn2c(N3CCO[C@H]4CC(F)C[C@@H]43)...  9.000000\n",
       "4   CHEMBL3706331  COCC(C)c1nc2cc(-c3noc(=O)[nH]3)nc(-c3cncc(Cl)c...  9.000000\n",
       "5   CHEMBL3706331  C[C@H]1CC[C@H](Cn2c(N3CCO[C@@H]4CC(F)C[C@H]43)...  9.000000\n",
       "6   CHEMBL1838865  N#Cc1ccc(CN2C(=O)c3cccc(Cl)c3C2(OCC2(CO)CC2)c2...  6.866461\n",
       "7   CHEMBL1838865  O=C1c2cccc(Cl)c2C(OCC2(CO)CC2)(c2ccc(Cl)cc2)N1...  6.863279\n",
       "8   CHEMBL1838865  O=C1c2cccc(Cl)c2C(OCC2(CO)CC2)(c2ccc(Cl)cc2)N1...  7.356547\n",
       "9   CHEMBL3705908  O=C1c2cccc(Cl)c2C(OCC2(CO)CC2)(c2ccc(Cl)cc2)N1...  7.397940"
      ]
     },
     "execution_count": 43,
     "metadata": {},
     "output_type": "execute_result"
    }
   ],
   "source": [
    "df_sort.head(10)"
   ]
  },
  {
   "cell_type": "code",
   "execution_count": 44,
   "metadata": {},
   "outputs": [],
   "source": [
    "def keep_maxIC50(data):\n",
    "    print(f'Before dropping duplicates: {data.shape}')\n",
    "    data = data.drop_duplicates(subset=['Smiles'])\n",
    "    print(f'After dropping duplicates: {data.shape}')\n",
    "    return data"
   ]
  },
  {
   "cell_type": "code",
   "execution_count": 45,
   "metadata": {},
   "outputs": [
    {
     "name": "stdout",
     "output_type": "stream",
     "text": [
      "Before dropping duplicates: (3726, 3)\n",
      "After dropping duplicates: (2954, 3)\n"
     ]
    }
   ],
   "source": [
    "df_maxIC50 = keep_maxIC50(df_sort)"
   ]
  },
  {
   "cell_type": "code",
   "execution_count": 46,
   "metadata": {},
   "outputs": [
    {
     "data": {
      "text/html": [
       "<div>\n",
       "<style scoped>\n",
       "    .dataframe tbody tr th:only-of-type {\n",
       "        vertical-align: middle;\n",
       "    }\n",
       "\n",
       "    .dataframe tbody tr th {\n",
       "        vertical-align: top;\n",
       "    }\n",
       "\n",
       "    .dataframe thead th {\n",
       "        text-align: right;\n",
       "    }\n",
       "</style>\n",
       "<table border=\"1\" class=\"dataframe\">\n",
       "  <thead>\n",
       "    <tr style=\"text-align: right;\">\n",
       "      <th></th>\n",
       "      <th>Assay_ChEMBL_ID</th>\n",
       "      <th>Smiles</th>\n",
       "      <th>pIC50</th>\n",
       "    </tr>\n",
       "  </thead>\n",
       "  <tbody>\n",
       "    <tr>\n",
       "      <th>0</th>\n",
       "      <td>CHEMBL3706024</td>\n",
       "      <td>C[C@H]1CC[C@H](Cn2c(N3CCCC4CCCC43)nc3cc(-c4noc...</td>\n",
       "      <td>9.000000</td>\n",
       "    </tr>\n",
       "    <tr>\n",
       "      <th>2</th>\n",
       "      <td>CHEMBL3706024</td>\n",
       "      <td>COCC(C)c1nc2cc(-c3noc(=O)[nH]3)nc(-c3cncc(Cl)c...</td>\n",
       "      <td>9.000000</td>\n",
       "    </tr>\n",
       "    <tr>\n",
       "      <th>3</th>\n",
       "      <td>CHEMBL3706024</td>\n",
       "      <td>C[C@H]1CC[C@H](Cn2c(N3CCO[C@H]4CC(F)C[C@@H]43)...</td>\n",
       "      <td>9.000000</td>\n",
       "    </tr>\n",
       "    <tr>\n",
       "      <th>5</th>\n",
       "      <td>CHEMBL3706331</td>\n",
       "      <td>C[C@H]1CC[C@H](Cn2c(N3CCO[C@@H]4CC(F)C[C@H]43)...</td>\n",
       "      <td>9.000000</td>\n",
       "    </tr>\n",
       "    <tr>\n",
       "      <th>6</th>\n",
       "      <td>CHEMBL1838865</td>\n",
       "      <td>N#Cc1ccc(CN2C(=O)c3cccc(Cl)c3C2(OCC2(CO)CC2)c2...</td>\n",
       "      <td>6.866461</td>\n",
       "    </tr>\n",
       "    <tr>\n",
       "      <th>7</th>\n",
       "      <td>CHEMBL1838865</td>\n",
       "      <td>O=C1c2cccc(Cl)c2C(OCC2(CO)CC2)(c2ccc(Cl)cc2)N1...</td>\n",
       "      <td>6.863279</td>\n",
       "    </tr>\n",
       "    <tr>\n",
       "      <th>8</th>\n",
       "      <td>CHEMBL1838865</td>\n",
       "      <td>O=C1c2cccc(Cl)c2C(OCC2(CO)CC2)(c2ccc(Cl)cc2)N1...</td>\n",
       "      <td>7.356547</td>\n",
       "    </tr>\n",
       "    <tr>\n",
       "      <th>10</th>\n",
       "      <td>CHEMBL3706024</td>\n",
       "      <td>CC(F)(c1ccccc1F)c1nc2cc(-c3noc(=O)[nH]3)nc(-c3...</td>\n",
       "      <td>9.000000</td>\n",
       "    </tr>\n",
       "    <tr>\n",
       "      <th>11</th>\n",
       "      <td>CHEMBL3706024</td>\n",
       "      <td>CC1CN(c2nc3cc(-c4noc(=O)[nH]4)nc(-c4cncc(Cl)c4...</td>\n",
       "      <td>9.000000</td>\n",
       "    </tr>\n",
       "    <tr>\n",
       "      <th>12</th>\n",
       "      <td>CHEMBL3706024</td>\n",
       "      <td>CC1OCCN(c2nc3cc(-c4noc(=O)[nH]4)nc(-c4cncc(Cl)...</td>\n",
       "      <td>9.000000</td>\n",
       "    </tr>\n",
       "    <tr>\n",
       "      <th>13</th>\n",
       "      <td>CHEMBL3706024</td>\n",
       "      <td>CCC(OCC(F)(F)F)c1nc2cc(-c3noc(=O)[nH]3)nc(-c3c...</td>\n",
       "      <td>8.698970</td>\n",
       "    </tr>\n",
       "    <tr>\n",
       "      <th>14</th>\n",
       "      <td>CHEMBL3706024</td>\n",
       "      <td>CCC1CN(C)C(=O)CN1c1nc2cc(-c3noc(=O)[nH]3)nc(-c...</td>\n",
       "      <td>8.221849</td>\n",
       "    </tr>\n",
       "    <tr>\n",
       "      <th>15</th>\n",
       "      <td>CHEMBL3706024</td>\n",
       "      <td>CCCC(COC)c1nc2cc(-c3noc(=O)[nH]3)nc(-c3cncc(Cl...</td>\n",
       "      <td>8.698970</td>\n",
       "    </tr>\n",
       "    <tr>\n",
       "      <th>16</th>\n",
       "      <td>CHEMBL3706024</td>\n",
       "      <td>CCOC(c1ccccn1)c1nc2cc(-c3noc(=O)[nH]3)nc(-c3cn...</td>\n",
       "      <td>8.698970</td>\n",
       "    </tr>\n",
       "    <tr>\n",
       "      <th>17</th>\n",
       "      <td>CHEMBL3706024</td>\n",
       "      <td>CCOC(c1cscn1)c1nc2cc(-c3noc(=O)[nH]3)nc(-c3cnc...</td>\n",
       "      <td>8.698970</td>\n",
       "    </tr>\n",
       "    <tr>\n",
       "      <th>18</th>\n",
       "      <td>CHEMBL3706024</td>\n",
       "      <td>CCOC(c1nc2cc(-c3noc(=O)[nH]3)nc(-c3cncc(Cl)c3)...</td>\n",
       "      <td>8.698970</td>\n",
       "    </tr>\n",
       "    <tr>\n",
       "      <th>19</th>\n",
       "      <td>CHEMBL3706024</td>\n",
       "      <td>CCOC(c1nc2cc(-c3noc(=O)[nH]3)nc(-c3cncc(Cl)c3)...</td>\n",
       "      <td>9.000000</td>\n",
       "    </tr>\n",
       "    <tr>\n",
       "      <th>20</th>\n",
       "      <td>CHEMBL3706024</td>\n",
       "      <td>CCOC(c1nc2cc(-c3noc(=O)[nH]3)nc(-c3cncc(Cl)c3)...</td>\n",
       "      <td>8.698970</td>\n",
       "    </tr>\n",
       "    <tr>\n",
       "      <th>21</th>\n",
       "      <td>CHEMBL3706024</td>\n",
       "      <td>CN(C)C(=O)[C@@H]1CCCN1c1nc2cc(-c3noc(=O)[nH]3)...</td>\n",
       "      <td>8.154902</td>\n",
       "    </tr>\n",
       "    <tr>\n",
       "      <th>22</th>\n",
       "      <td>CHEMBL3706024</td>\n",
       "      <td>COC1CC2CCC1N2c1nc2cc(-c3noc(=O)[nH]3)nc(-c3cnc...</td>\n",
       "      <td>8.045757</td>\n",
       "    </tr>\n",
       "    <tr>\n",
       "      <th>23</th>\n",
       "      <td>CHEMBL3706024</td>\n",
       "      <td>COCC(C)c1nc2cc(-c3noc(=O)[nH]3)nc(-c3cncc(Cl)c...</td>\n",
       "      <td>8.045757</td>\n",
       "    </tr>\n",
       "    <tr>\n",
       "      <th>24</th>\n",
       "      <td>CHEMBL3706024</td>\n",
       "      <td>COCCOC(c1nc2cc(-c3noc(=O)[nH]3)nc(-c3cncc(Cl)c...</td>\n",
       "      <td>8.698970</td>\n",
       "    </tr>\n",
       "    <tr>\n",
       "      <th>25</th>\n",
       "      <td>CHEMBL3706024</td>\n",
       "      <td>CO[C@@H]1CCN(c2nc3cc(-c4nc(=O)o[nH]4)nc(-c4cnc...</td>\n",
       "      <td>8.301030</td>\n",
       "    </tr>\n",
       "    <tr>\n",
       "      <th>26</th>\n",
       "      <td>CHEMBL3706024</td>\n",
       "      <td>C[C@H]1CC[C@H](Cn2c(N3CC(O)CC4CCCCC43)nc3cc(-c...</td>\n",
       "      <td>8.522879</td>\n",
       "    </tr>\n",
       "    <tr>\n",
       "      <th>27</th>\n",
       "      <td>CHEMBL3706024</td>\n",
       "      <td>C[C@H]1CC[C@H](Cn2c(N3CCOC4CCCCC43)nc3cc(-c4n[...</td>\n",
       "      <td>8.397940</td>\n",
       "    </tr>\n",
       "    <tr>\n",
       "      <th>28</th>\n",
       "      <td>CHEMBL3706024</td>\n",
       "      <td>C[C@H]1CC[C@H](Cn2c(N3CCOC4CCCCC43)nc3cc(-c4no...</td>\n",
       "      <td>9.000000</td>\n",
       "    </tr>\n",
       "    <tr>\n",
       "      <th>29</th>\n",
       "      <td>CHEMBL3706024</td>\n",
       "      <td>Cc1nonc1C1CCCN1c1nc2cc(-c3noc(=O)[nH]3)nc(-c3c...</td>\n",
       "      <td>9.000000</td>\n",
       "    </tr>\n",
       "    <tr>\n",
       "      <th>44</th>\n",
       "      <td>CHEMBL3706331</td>\n",
       "      <td>CO[C@@H]1CCN(c2nc3cc(-c4noc(=O)[nH]4)nc(-c4cnc...</td>\n",
       "      <td>7.886057</td>\n",
       "    </tr>\n",
       "    <tr>\n",
       "      <th>45</th>\n",
       "      <td>CHEMBL3706331</td>\n",
       "      <td>CO[C@H]1CCN(c2nc3cc(-c4noc(=O)[nH]4)nc(-c4cncc...</td>\n",
       "      <td>8.301030</td>\n",
       "    </tr>\n",
       "    <tr>\n",
       "      <th>47</th>\n",
       "      <td>CHEMBL3706331</td>\n",
       "      <td>C[C@H]1CC[C@H](Cn2c(N3CCCC4COCCC43)nc3cc(-c4no...</td>\n",
       "      <td>8.096910</td>\n",
       "    </tr>\n",
       "  </tbody>\n",
       "</table>\n",
       "</div>"
      ],
      "text/plain": [
       "   Assay_ChEMBL_ID                                             Smiles  \\\n",
       "0    CHEMBL3706024  C[C@H]1CC[C@H](Cn2c(N3CCCC4CCCC43)nc3cc(-c4noc...   \n",
       "2    CHEMBL3706024  COCC(C)c1nc2cc(-c3noc(=O)[nH]3)nc(-c3cncc(Cl)c...   \n",
       "3    CHEMBL3706024  C[C@H]1CC[C@H](Cn2c(N3CCO[C@H]4CC(F)C[C@@H]43)...   \n",
       "5    CHEMBL3706331  C[C@H]1CC[C@H](Cn2c(N3CCO[C@@H]4CC(F)C[C@H]43)...   \n",
       "6    CHEMBL1838865  N#Cc1ccc(CN2C(=O)c3cccc(Cl)c3C2(OCC2(CO)CC2)c2...   \n",
       "7    CHEMBL1838865  O=C1c2cccc(Cl)c2C(OCC2(CO)CC2)(c2ccc(Cl)cc2)N1...   \n",
       "8    CHEMBL1838865  O=C1c2cccc(Cl)c2C(OCC2(CO)CC2)(c2ccc(Cl)cc2)N1...   \n",
       "10   CHEMBL3706024  CC(F)(c1ccccc1F)c1nc2cc(-c3noc(=O)[nH]3)nc(-c3...   \n",
       "11   CHEMBL3706024  CC1CN(c2nc3cc(-c4noc(=O)[nH]4)nc(-c4cncc(Cl)c4...   \n",
       "12   CHEMBL3706024  CC1OCCN(c2nc3cc(-c4noc(=O)[nH]4)nc(-c4cncc(Cl)...   \n",
       "13   CHEMBL3706024  CCC(OCC(F)(F)F)c1nc2cc(-c3noc(=O)[nH]3)nc(-c3c...   \n",
       "14   CHEMBL3706024  CCC1CN(C)C(=O)CN1c1nc2cc(-c3noc(=O)[nH]3)nc(-c...   \n",
       "15   CHEMBL3706024  CCCC(COC)c1nc2cc(-c3noc(=O)[nH]3)nc(-c3cncc(Cl...   \n",
       "16   CHEMBL3706024  CCOC(c1ccccn1)c1nc2cc(-c3noc(=O)[nH]3)nc(-c3cn...   \n",
       "17   CHEMBL3706024  CCOC(c1cscn1)c1nc2cc(-c3noc(=O)[nH]3)nc(-c3cnc...   \n",
       "18   CHEMBL3706024  CCOC(c1nc2cc(-c3noc(=O)[nH]3)nc(-c3cncc(Cl)c3)...   \n",
       "19   CHEMBL3706024  CCOC(c1nc2cc(-c3noc(=O)[nH]3)nc(-c3cncc(Cl)c3)...   \n",
       "20   CHEMBL3706024  CCOC(c1nc2cc(-c3noc(=O)[nH]3)nc(-c3cncc(Cl)c3)...   \n",
       "21   CHEMBL3706024  CN(C)C(=O)[C@@H]1CCCN1c1nc2cc(-c3noc(=O)[nH]3)...   \n",
       "22   CHEMBL3706024  COC1CC2CCC1N2c1nc2cc(-c3noc(=O)[nH]3)nc(-c3cnc...   \n",
       "23   CHEMBL3706024  COCC(C)c1nc2cc(-c3noc(=O)[nH]3)nc(-c3cncc(Cl)c...   \n",
       "24   CHEMBL3706024  COCCOC(c1nc2cc(-c3noc(=O)[nH]3)nc(-c3cncc(Cl)c...   \n",
       "25   CHEMBL3706024  CO[C@@H]1CCN(c2nc3cc(-c4nc(=O)o[nH]4)nc(-c4cnc...   \n",
       "26   CHEMBL3706024  C[C@H]1CC[C@H](Cn2c(N3CC(O)CC4CCCCC43)nc3cc(-c...   \n",
       "27   CHEMBL3706024  C[C@H]1CC[C@H](Cn2c(N3CCOC4CCCCC43)nc3cc(-c4n[...   \n",
       "28   CHEMBL3706024  C[C@H]1CC[C@H](Cn2c(N3CCOC4CCCCC43)nc3cc(-c4no...   \n",
       "29   CHEMBL3706024  Cc1nonc1C1CCCN1c1nc2cc(-c3noc(=O)[nH]3)nc(-c3c...   \n",
       "44   CHEMBL3706331  CO[C@@H]1CCN(c2nc3cc(-c4noc(=O)[nH]4)nc(-c4cnc...   \n",
       "45   CHEMBL3706331  CO[C@H]1CCN(c2nc3cc(-c4noc(=O)[nH]4)nc(-c4cncc...   \n",
       "47   CHEMBL3706331  C[C@H]1CC[C@H](Cn2c(N3CCCC4COCCC43)nc3cc(-c4no...   \n",
       "\n",
       "       pIC50  \n",
       "0   9.000000  \n",
       "2   9.000000  \n",
       "3   9.000000  \n",
       "5   9.000000  \n",
       "6   6.866461  \n",
       "7   6.863279  \n",
       "8   7.356547  \n",
       "10  9.000000  \n",
       "11  9.000000  \n",
       "12  9.000000  \n",
       "13  8.698970  \n",
       "14  8.221849  \n",
       "15  8.698970  \n",
       "16  8.698970  \n",
       "17  8.698970  \n",
       "18  8.698970  \n",
       "19  9.000000  \n",
       "20  8.698970  \n",
       "21  8.154902  \n",
       "22  8.045757  \n",
       "23  8.045757  \n",
       "24  8.698970  \n",
       "25  8.301030  \n",
       "26  8.522879  \n",
       "27  8.397940  \n",
       "28  9.000000  \n",
       "29  9.000000  \n",
       "44  7.886057  \n",
       "45  8.301030  \n",
       "47  8.096910  "
      ]
     },
     "execution_count": 46,
     "metadata": {},
     "output_type": "execute_result"
    }
   ],
   "source": [
    "df_maxIC50.head(30)"
   ]
  },
  {
   "cell_type": "code",
   "execution_count": 47,
   "metadata": {},
   "outputs": [],
   "source": [
    "df_maxIC50.to_csv('data_maxIC50.csv')"
   ]
  },
  {
   "cell_type": "code",
   "execution_count": 53,
   "metadata": {},
   "outputs": [],
   "source": [
    "df_maxIC50[['Smiles', 'pIC50']].to_csv('data_maxIC50_cleaned.csv', index=False)"
   ]
  },
  {
   "cell_type": "code",
   "execution_count": 48,
   "metadata": {},
   "outputs": [
    {
     "data": {
      "text/html": [
       "<div>\n",
       "<style scoped>\n",
       "    .dataframe tbody tr th:only-of-type {\n",
       "        vertical-align: middle;\n",
       "    }\n",
       "\n",
       "    .dataframe tbody tr th {\n",
       "        vertical-align: top;\n",
       "    }\n",
       "\n",
       "    .dataframe thead th {\n",
       "        text-align: right;\n",
       "    }\n",
       "</style>\n",
       "<table border=\"1\" class=\"dataframe\">\n",
       "  <thead>\n",
       "    <tr style=\"text-align: right;\">\n",
       "      <th></th>\n",
       "      <th>pIC50</th>\n",
       "    </tr>\n",
       "  </thead>\n",
       "  <tbody>\n",
       "    <tr>\n",
       "      <th>count</th>\n",
       "      <td>2954.000000</td>\n",
       "    </tr>\n",
       "    <tr>\n",
       "      <th>mean</th>\n",
       "      <td>7.558620</td>\n",
       "    </tr>\n",
       "    <tr>\n",
       "      <th>std</th>\n",
       "      <td>1.715466</td>\n",
       "    </tr>\n",
       "    <tr>\n",
       "      <th>min</th>\n",
       "      <td>2.992252</td>\n",
       "    </tr>\n",
       "    <tr>\n",
       "      <th>25%</th>\n",
       "      <td>6.264604</td>\n",
       "    </tr>\n",
       "    <tr>\n",
       "      <th>50%</th>\n",
       "      <td>7.886057</td>\n",
       "    </tr>\n",
       "    <tr>\n",
       "      <th>75%</th>\n",
       "      <td>9.000000</td>\n",
       "    </tr>\n",
       "    <tr>\n",
       "      <th>max</th>\n",
       "      <td>10.397940</td>\n",
       "    </tr>\n",
       "  </tbody>\n",
       "</table>\n",
       "</div>"
      ],
      "text/plain": [
       "             pIC50\n",
       "count  2954.000000\n",
       "mean      7.558620\n",
       "std       1.715466\n",
       "min       2.992252\n",
       "25%       6.264604\n",
       "50%       7.886057\n",
       "75%       9.000000\n",
       "max      10.397940"
      ]
     },
     "execution_count": 48,
     "metadata": {},
     "output_type": "execute_result"
    }
   ],
   "source": [
    "df_maxIC50.describe()"
   ]
  }
 ],
 "metadata": {
  "kernelspec": {
   "display_name": "venv",
   "language": "python",
   "name": "python3"
  },
  "language_info": {
   "codemirror_mode": {
    "name": "ipython",
    "version": 3
   },
   "file_extension": ".py",
   "mimetype": "text/x-python",
   "name": "python",
   "nbconvert_exporter": "python",
   "pygments_lexer": "ipython3",
   "version": "3.11.4"
  }
 },
 "nbformat": 4,
 "nbformat_minor": 2
}
